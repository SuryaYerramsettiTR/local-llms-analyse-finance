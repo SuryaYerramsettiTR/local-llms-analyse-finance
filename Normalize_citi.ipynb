{
 "cells": [
  {
   "cell_type": "code",
   "execution_count": 1,
   "metadata": {},
   "outputs": [
    {
     "name": "stderr",
     "output_type": "stream",
     "text": [
      "\n",
      "[notice] A new release of pip is available: 23.3.1 -> 24.0\n",
      "[notice] To update, run: python.exe -m pip install --upgrade pip\n"
     ]
    },
    {
     "name": "stdout",
     "output_type": "stream",
     "text": [
      "Requirement already satisfied: pandas in c:\\users\\6041183\\appdata\\local\\programs\\python\\python312\\lib\\site-packages (2.2.0)\n",
      "Requirement already satisfied: numpy<2,>=1.26.0 in c:\\users\\6041183\\appdata\\local\\programs\\python\\python312\\lib\\site-packages (from pandas) (1.26.3)\n",
      "Requirement already satisfied: python-dateutil>=2.8.2 in c:\\users\\6041183\\appdata\\local\\programs\\python\\python312\\lib\\site-packages (from pandas) (2.8.2)\n",
      "Requirement already satisfied: pytz>=2020.1 in c:\\users\\6041183\\appdata\\local\\programs\\python\\python312\\lib\\site-packages (from pandas) (2023.3.post1)\n",
      "Requirement already satisfied: tzdata>=2022.7 in c:\\users\\6041183\\appdata\\local\\programs\\python\\python312\\lib\\site-packages (from pandas) (2023.4)\n",
      "Requirement already satisfied: six>=1.5 in c:\\users\\6041183\\appdata\\local\\programs\\python\\python312\\lib\\site-packages (from python-dateutil>=2.8.2->pandas) (1.16.0)\n"
     ]
    }
   ],
   "source": [
    "!pip install pandas\n",
    "\n",
    "import pandas as pd\n",
    "\n",
    "# Read the CSV file\n",
    "df = pd.read_csv('transactions_2022_2023.csv')\n",
    "\n",
    "# Replace the column \"Card Member\" with \"Expense / Income\" and set all entries to \"Expense\"\n",
    "df.rename(columns={'Card Member': 'Expense/Income', 'Description': 'Name / Description'}, inplace=True)\n",
    "df['Expense/Income'] = df['Expense/Income'].replace('Expense/Income', 'Expense')\n",
    "\n",
    "\n",
    "# Check if the column 'Amount' exists in the DataFrame\n",
    "if 'Amount' in df.columns:\n",
    "    df.rename(columns={'Amount': 'Amount (USD)'}, inplace=True)\n",
    "\n",
    "# Check if the column 'Account #' exists in the DataFrame\n",
    "if 'Account #' in df.columns:\n",
    "    df.drop('Account #', axis=1, inplace=True)\n",
    "\n",
    "# Save the modified DataFrame back to the CSV file\n",
    "df.to_csv('transactions_2022_2023.csv', index=False)\n"
   ]
  }
 ],
 "metadata": {
  "kernelspec": {
   "display_name": "Python 3",
   "language": "python",
   "name": "python3"
  },
  "language_info": {
   "codemirror_mode": {
    "name": "ipython",
    "version": 3
   },
   "file_extension": ".py",
   "mimetype": "text/x-python",
   "name": "python",
   "nbconvert_exporter": "python",
   "pygments_lexer": "ipython3",
   "version": "3.12.0"
  }
 },
 "nbformat": 4,
 "nbformat_minor": 2
}
