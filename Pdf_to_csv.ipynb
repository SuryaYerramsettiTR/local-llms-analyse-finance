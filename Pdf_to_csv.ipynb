{
 "cells": [
  {
   "cell_type": "code",
   "execution_count": 1,
   "metadata": {},
   "outputs": [
    {
     "name": "stdout",
     "output_type": "stream",
     "text": [
      "Requirement already satisfied: tabula-py in c:\\users\\6041183\\appdata\\local\\programs\\python\\python312\\lib\\site-packages (2.9.0)\n",
      "Requirement already satisfied: pandas>=0.25.3 in c:\\users\\6041183\\appdata\\local\\programs\\python\\python312\\lib\\site-packages (from tabula-py) (2.2.0)\n",
      "Requirement already satisfied: numpy in c:\\users\\6041183\\appdata\\local\\programs\\python\\python312\\lib\\site-packages (from tabula-py) (1.26.3)\n",
      "Requirement already satisfied: distro in c:\\users\\6041183\\appdata\\local\\programs\\python\\python312\\lib\\site-packages (from tabula-py) (1.9.0)\n",
      "Requirement already satisfied: python-dateutil>=2.8.2 in c:\\users\\6041183\\appdata\\local\\programs\\python\\python312\\lib\\site-packages (from pandas>=0.25.3->tabula-py) (2.8.2)\n",
      "Requirement already satisfied: pytz>=2020.1 in c:\\users\\6041183\\appdata\\local\\programs\\python\\python312\\lib\\site-packages (from pandas>=0.25.3->tabula-py) (2023.3.post1)\n",
      "Requirement already satisfied: tzdata>=2022.7 in c:\\users\\6041183\\appdata\\local\\programs\\python\\python312\\lib\\site-packages (from pandas>=0.25.3->tabula-py) (2023.4)\n",
      "Requirement already satisfied: six>=1.5 in c:\\users\\6041183\\appdata\\local\\programs\\python\\python312\\lib\\site-packages (from python-dateutil>=2.8.2->pandas>=0.25.3->tabula-py) (1.16.0)\n"
     ]
    },
    {
     "name": "stderr",
     "output_type": "stream",
     "text": [
      "\n",
      "[notice] A new release of pip is available: 23.3.1 -> 24.0\n",
      "[notice] To update, run: python.exe -m pip install --upgrade pip\n"
     ]
    },
    {
     "name": "stdout",
     "output_type": "stream",
     "text": [
      "Collecting glob2\n",
      "  Using cached glob2-0.7.tar.gz (10 kB)\n",
      "  Installing build dependencies: started\n",
      "  Installing build dependencies: finished with status 'done'\n",
      "  Getting requirements to build wheel: started\n",
      "  Getting requirements to build wheel: finished with status 'done'\n",
      "  Preparing metadata (pyproject.toml): started\n",
      "  Preparing metadata (pyproject.toml): finished with status 'done'\n",
      "Building wheels for collected packages: glob2\n",
      "  Building wheel for glob2 (pyproject.toml): started\n",
      "  Building wheel for glob2 (pyproject.toml): finished with status 'done'\n",
      "  Created wheel for glob2: filename=glob2-0.7-py2.py3-none-any.whl size=9311 sha256=ef04c26c079e1129acd3d7cd2480c39011644003ab4d586d2760c09d0649c387\n",
      "  Stored in directory: c:\\users\\6041183\\appdata\\local\\pip\\cache\\wheels\\fb\\b3\\7b\\71827dcd17a71be7a8b7adf9f30a4200b612a903d7d8af3442\n",
      "Successfully built glob2\n",
      "Installing collected packages: glob2\n",
      "Successfully installed glob2-0.7\n"
     ]
    },
    {
     "name": "stderr",
     "output_type": "stream",
     "text": [
      "\n",
      "[notice] A new release of pip is available: 23.3.1 -> 24.0\n",
      "[notice] To update, run: python.exe -m pip install --upgrade pip\n",
      "\n",
      "[notice] A new release of pip is available: 23.3.1 -> 24.0\n",
      "[notice] To update, run: python.exe -m pip install --upgrade pip\n"
     ]
    },
    {
     "name": "stdout",
     "output_type": "stream",
     "text": [
      "Requirement already satisfied: pandas in c:\\users\\6041183\\appdata\\local\\programs\\python\\python312\\lib\\site-packages (2.2.0)\n",
      "Requirement already satisfied: numpy<2,>=1.26.0 in c:\\users\\6041183\\appdata\\local\\programs\\python\\python312\\lib\\site-packages (from pandas) (1.26.3)\n",
      "Requirement already satisfied: python-dateutil>=2.8.2 in c:\\users\\6041183\\appdata\\local\\programs\\python\\python312\\lib\\site-packages (from pandas) (2.8.2)\n",
      "Requirement already satisfied: pytz>=2020.1 in c:\\users\\6041183\\appdata\\local\\programs\\python\\python312\\lib\\site-packages (from pandas) (2023.3.post1)\n",
      "Requirement already satisfied: tzdata>=2022.7 in c:\\users\\6041183\\appdata\\local\\programs\\python\\python312\\lib\\site-packages (from pandas) (2023.4)\n",
      "Requirement already satisfied: six>=1.5 in c:\\users\\6041183\\appdata\\local\\programs\\python\\python312\\lib\\site-packages (from python-dateutil>=2.8.2->pandas) (1.16.0)\n"
     ]
    },
    {
     "name": "stderr",
     "output_type": "stream",
     "text": [
      "Error importing jpype dependencies. Fallback to subprocess.\n",
      "No module named 'jpype'\n",
      "Got stderr: Feb 18, 2024 1:16:37 PM org.apache.pdfbox.pdmodel.font.FileSystemFontProvider loadDiskCache\n",
      "WARNING: New fonts found, font cache will be re-built\n",
      "Feb 18, 2024 1:16:37 PM org.apache.pdfbox.pdmodel.font.FileSystemFontProvider <init>\n",
      "WARNING: Building on-disk font cache, this may take a while\n",
      "Feb 18, 2024 1:16:37 PM org.apache.pdfbox.pdmodel.font.FileSystemFontProvider <init>\n",
      "WARNING: Finished building on-disk font cache, found 388 fonts\n",
      "\n"
     ]
    }
   ],
   "source": [
    "!pip install tabula-py\n",
    "!pip install glob2\n",
    "!pip install pandas\n",
    "\n",
    "import glob\n",
    "import tabula\n",
    "import pandas as pd\n",
    "\n",
    "# Search for PDF files in the current directory\n",
    "pdf_files = glob.glob(\"*.pdf\")\n",
    "# Convert each PDF file to CSV\n",
    "for pdf_file in pdf_files:\n",
    "    # Specify the output CSV file name\n",
    "    csv_file = pdf_file.replace(\".pdf\", \".csv\")\n",
    "    \n",
    "    # Convert PDF to CSV using tabula-py\n",
    "    tabula.convert_into(pdf_file, csv_file, output_format=\"csv\", pages=\"all\", lattice=True)\n"
   ]
  }
 ],
 "metadata": {
  "kernelspec": {
   "display_name": "Python 3",
   "language": "python",
   "name": "python3"
  },
  "language_info": {
   "codemirror_mode": {
    "name": "ipython",
    "version": 3
   },
   "file_extension": ".py",
   "mimetype": "text/x-python",
   "name": "python",
   "nbconvert_exporter": "python",
   "pygments_lexer": "ipython3",
   "version": "3.12.0"
  }
 },
 "nbformat": 4,
 "nbformat_minor": 2
}
